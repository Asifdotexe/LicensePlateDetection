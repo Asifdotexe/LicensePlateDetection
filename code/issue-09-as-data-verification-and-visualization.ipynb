{
 "cells": [
  {
   "cell_type": "code",
   "execution_count": null,
   "metadata": {},
   "outputs": [],
   "source": [
    "<table style=\"width:100%; border-collapse: collapse; border: none;\">\n",
    "  <tr>\n",
    "    <td style=\"text-align:left; border: none;\"><a href=\"https://github.com/Asifdotexe/LicensePlateDetection/blob/main/code/issue-05-as-filename-extraction.ipynbb\">Previous Notebook</a></td>\n",
    "    <td style=\"text-align:right; border: none;\"><a href=\"#\">Next Notebook</a></td>\n",
    "  </tr>\n",
    "</table>"
   ]
  }
 ],
 "metadata": {
  "language_info": {
   "name": "python"
  }
 },
 "nbformat": 4,
 "nbformat_minor": 2
}
