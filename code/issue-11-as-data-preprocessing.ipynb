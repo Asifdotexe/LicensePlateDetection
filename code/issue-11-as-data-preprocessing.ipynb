{
 "cells": [
  {
   "cell_type": "markdown",
   "metadata": {},
   "source": [
    "# Data Proprocessing"
   ]
  },
  {
   "cell_type": "code",
   "execution_count": 24,
   "metadata": {},
   "outputs": [],
   "source": [
    "# !pip install tensorflow"
   ]
  },
  {
   "cell_type": "code",
   "execution_count": 51,
   "metadata": {},
   "outputs": [],
   "source": [
    "import cv2 as cv\n",
    "import numpy as np\n",
    "import pandas as pd\n",
    "from tensorflow.keras.preprocessing.image import load_img, img_to_array\n",
    "\n",
    "from src.xml_parser import extract_image_filenames"
   ]
  },
  {
   "cell_type": "code",
   "execution_count": 4,
   "metadata": {},
   "outputs": [
    {
     "data": {
      "text/html": [
       "<div>\n",
       "<style scoped>\n",
       "    .dataframe tbody tr th:only-of-type {\n",
       "        vertical-align: middle;\n",
       "    }\n",
       "\n",
       "    .dataframe tbody tr th {\n",
       "        vertical-align: top;\n",
       "    }\n",
       "\n",
       "    .dataframe thead th {\n",
       "        text-align: right;\n",
       "    }\n",
       "</style>\n",
       "<table border=\"1\" class=\"dataframe\">\n",
       "  <thead>\n",
       "    <tr style=\"text-align: right;\">\n",
       "      <th></th>\n",
       "      <th>filepath</th>\n",
       "      <th>xmin</th>\n",
       "      <th>xmax</th>\n",
       "      <th>ymin</th>\n",
       "      <th>ymax</th>\n",
       "    </tr>\n",
       "  </thead>\n",
       "  <tbody>\n",
       "    <tr>\n",
       "      <th>0</th>\n",
       "      <td>..\\input\\number-plates\\annotations\\Cars0.xml</td>\n",
       "      <td>226</td>\n",
       "      <td>419</td>\n",
       "      <td>125</td>\n",
       "      <td>173</td>\n",
       "    </tr>\n",
       "    <tr>\n",
       "      <th>1</th>\n",
       "      <td>..\\input\\number-plates\\annotations\\Cars1.xml</td>\n",
       "      <td>134</td>\n",
       "      <td>262</td>\n",
       "      <td>128</td>\n",
       "      <td>160</td>\n",
       "    </tr>\n",
       "    <tr>\n",
       "      <th>2</th>\n",
       "      <td>..\\input\\number-plates\\annotations\\Cars10.xml</td>\n",
       "      <td>140</td>\n",
       "      <td>303</td>\n",
       "      <td>5</td>\n",
       "      <td>148</td>\n",
       "    </tr>\n",
       "    <tr>\n",
       "      <th>3</th>\n",
       "      <td>..\\input\\number-plates\\annotations\\Cars100.xml</td>\n",
       "      <td>175</td>\n",
       "      <td>214</td>\n",
       "      <td>114</td>\n",
       "      <td>131</td>\n",
       "    </tr>\n",
       "    <tr>\n",
       "      <th>4</th>\n",
       "      <td>..\\input\\number-plates\\annotations\\Cars101.xml</td>\n",
       "      <td>167</td>\n",
       "      <td>240</td>\n",
       "      <td>202</td>\n",
       "      <td>220</td>\n",
       "    </tr>\n",
       "  </tbody>\n",
       "</table>\n",
       "</div>"
      ],
      "text/plain": [
       "                                         filepath  xmin  xmax  ymin  ymax\n",
       "0    ..\\input\\number-plates\\annotations\\Cars0.xml   226   419   125   173\n",
       "1    ..\\input\\number-plates\\annotations\\Cars1.xml   134   262   128   160\n",
       "2   ..\\input\\number-plates\\annotations\\Cars10.xml   140   303     5   148\n",
       "3  ..\\input\\number-plates\\annotations\\Cars100.xml   175   214   114   131\n",
       "4  ..\\input\\number-plates\\annotations\\Cars101.xml   167   240   202   220"
      ]
     },
     "execution_count": 4,
     "metadata": {},
     "output_type": "execute_result"
    }
   ],
   "source": [
    "df = pd.read_csv(r\"..\\output\\labels.csv\")\n",
    "df.head()"
   ]
  },
  {
   "cell_type": "code",
   "execution_count": 6,
   "metadata": {},
   "outputs": [
    {
     "data": {
      "text/plain": [
       "array([[226, 419, 125, 173],\n",
       "       [134, 262, 128, 160],\n",
       "       [140, 303,   5, 148],\n",
       "       ...,\n",
       "       [ 98, 297, 102, 191],\n",
       "       [ 85, 247, 196, 259],\n",
       "       [ 70, 262, 198, 271]], dtype=int64)"
      ]
     },
     "execution_count": 6,
     "metadata": {},
     "output_type": "execute_result"
    }
   ],
   "source": [
    "# getting all the co-ordinatess from all the xml files\n",
    "df.iloc[:,1:5].values"
   ]
  },
  {
   "cell_type": "code",
   "execution_count": 9,
   "metadata": {},
   "outputs": [],
   "source": [
    "# exteacted all the image paths from the dataframe\n",
    "image_paths = extract_image_filenames(df)"
   ]
  },
  {
   "cell_type": "code",
   "execution_count": 29,
   "metadata": {},
   "outputs": [
    {
     "data": {
      "text/plain": [
       "'../input/number-plates/images\\\\Cars109.png'"
      ]
     },
     "execution_count": 29,
     "metadata": {},
     "output_type": "execute_result"
    }
   ],
   "source": [
    "image_paths[12]"
   ]
  },
  {
   "cell_type": "code",
   "execution_count": 32,
   "metadata": {},
   "outputs": [],
   "source": [
    "# reading the image using OpenCV\n",
    "image_array = cv.imread(image_paths[12])"
   ]
  },
  {
   "cell_type": "code",
   "execution_count": 33,
   "metadata": {},
   "outputs": [],
   "source": [
    "# extracting the height and width of the image\n",
    "height, width = image_array.shape[:2]"
   ]
  },
  {
   "cell_type": "code",
   "execution_count": 36,
   "metadata": {},
   "outputs": [],
   "source": [
    "# using target size to make sure all the images are the same size\n",
    "load_image = load_img(image_paths[12], target_size=(224,224))"
   ]
  },
  {
   "cell_type": "code",
   "execution_count": 38,
   "metadata": {},
   "outputs": [
    {
     "data": {
      "text/plain": [
       "array([[[0.2627451 , 0.28235295, 0.11372549],\n",
       "        [0.4       , 0.40784314, 0.24705882],\n",
       "        [0.3882353 , 0.39607844, 0.22352941],\n",
       "        ...,\n",
       "        [0.32156864, 0.40392157, 0.45490196],\n",
       "        [0.32941177, 0.40784314, 0.45882353],\n",
       "        [0.34901962, 0.41960785, 0.4745098 ]],\n",
       "\n",
       "       [[0.27058825, 0.2901961 , 0.12156863],\n",
       "        [0.4       , 0.40392157, 0.24705882],\n",
       "        [0.3882353 , 0.4       , 0.22745098],\n",
       "        ...,\n",
       "        [0.32941177, 0.40784314, 0.45882353],\n",
       "        [0.34117648, 0.42352942, 0.47058824],\n",
       "        [0.35686275, 0.43137255, 0.48235294]],\n",
       "\n",
       "       [[0.33333334, 0.3529412 , 0.17254902],\n",
       "        [0.39607844, 0.4117647 , 0.24313726],\n",
       "        [0.4       , 0.4117647 , 0.24313726],\n",
       "        ...,\n",
       "        [0.3764706 , 0.45882353, 0.50980395],\n",
       "        [0.43137255, 0.5176471 , 0.5647059 ],\n",
       "        [0.41960785, 0.5019608 , 0.5529412 ]],\n",
       "\n",
       "       ...,\n",
       "\n",
       "       [[0.88235295, 0.8901961 , 0.89411765],\n",
       "        [0.8       , 0.80784315, 0.80784315],\n",
       "        [0.7764706 , 0.78431374, 0.7647059 ],\n",
       "        ...,\n",
       "        [0.05490196, 0.05490196, 0.05490196],\n",
       "        [0.07843138, 0.07058824, 0.07450981],\n",
       "        [0.05490196, 0.04705882, 0.05098039]],\n",
       "\n",
       "       [[0.78039217, 0.79607844, 0.79607844],\n",
       "        [0.75686276, 0.76862746, 0.77254903],\n",
       "        [0.827451  , 0.8352941 , 0.81960785],\n",
       "        ...,\n",
       "        [0.09803922, 0.09803922, 0.09803922],\n",
       "        [0.10980392, 0.10588235, 0.10588235],\n",
       "        [0.05490196, 0.05098039, 0.05490196]],\n",
       "\n",
       "       [[0.69411767, 0.7137255 , 0.7058824 ],\n",
       "        [0.72156864, 0.7372549 , 0.7411765 ],\n",
       "        [0.8901961 , 0.8980392 , 0.88235295],\n",
       "        ...,\n",
       "        [0.18039216, 0.18039216, 0.18039216],\n",
       "        [0.12156863, 0.11764706, 0.11764706],\n",
       "        [0.04705882, 0.04313726, 0.04705882]]], dtype=float32)"
      ]
     },
     "execution_count": 38,
     "metadata": {},
     "output_type": "execute_result"
    }
   ],
   "source": [
    "# normalizing the pixel values so that they range from 0 to 1 instead of 0 to 255\n",
    "# to help make the model converge faster and improve performance\n",
    "img_to_array(load_image)/255"
   ]
  },
  {
   "cell_type": "code",
   "execution_count": 50,
   "metadata": {},
   "outputs": [],
   "source": [
    "load_image_array = img_to_array(load_image)/255"
   ]
  },
  {
   "cell_type": "code",
   "execution_count": 43,
   "metadata": {},
   "outputs": [],
   "source": [
    "# extracting the co-ordinate values for sample image\n",
    "xmin, xmax, ymin, ymax = df.iloc[:,1:5].values[12]"
   ]
  },
  {
   "cell_type": "code",
   "execution_count": 45,
   "metadata": {},
   "outputs": [
    {
     "name": "stdout",
     "output_type": "stream",
     "text": [
      "115 278 116 153\n"
     ]
    }
   ],
   "source": [
    "print(xmin, xmax, ymin, ymax)"
   ]
  },
  {
   "cell_type": "code",
   "execution_count": 47,
   "metadata": {},
   "outputs": [
    {
     "name": "stdout",
     "output_type": "stream",
     "text": [
      "0.2875 0.695 0.4344569288389513 0.5730337078651685\n"
     ]
    }
   ],
   "source": [
    "# normalizing the co-ordinate values\n",
    "print(xmin/width, xmax/width, ymin/height, ymax/height)"
   ]
  },
  {
   "cell_type": "code",
   "execution_count": 49,
   "metadata": {},
   "outputs": [
    {
     "data": {
      "text/plain": [
       "(0.2875, 0.695, 0.4344569288389513, 0.5730337078651685)"
      ]
     },
     "execution_count": 49,
     "metadata": {},
     "output_type": "execute_result"
    }
   ],
   "source": [
    "normalized_labels = (xmin/width, xmax/width, ymin/height, ymax/height)\n",
    "normalized_labels"
   ]
  },
  {
   "cell_type": "code",
   "execution_count": 53,
   "metadata": {},
   "outputs": [
    {
     "data": {
      "text/plain": [
       "array([[[0.2627451 , 0.28235295, 0.11372549],\n",
       "        [0.4       , 0.40784314, 0.24705882],\n",
       "        [0.3882353 , 0.39607844, 0.22352941],\n",
       "        ...,\n",
       "        [0.32156864, 0.40392157, 0.45490196],\n",
       "        [0.32941177, 0.40784314, 0.45882353],\n",
       "        [0.34901962, 0.41960785, 0.4745098 ]],\n",
       "\n",
       "       [[0.27058825, 0.2901961 , 0.12156863],\n",
       "        [0.4       , 0.40392157, 0.24705882],\n",
       "        [0.3882353 , 0.4       , 0.22745098],\n",
       "        ...,\n",
       "        [0.32941177, 0.40784314, 0.45882353],\n",
       "        [0.34117648, 0.42352942, 0.47058824],\n",
       "        [0.35686275, 0.43137255, 0.48235294]],\n",
       "\n",
       "       [[0.33333334, 0.3529412 , 0.17254902],\n",
       "        [0.39607844, 0.4117647 , 0.24313726],\n",
       "        [0.4       , 0.4117647 , 0.24313726],\n",
       "        ...,\n",
       "        [0.3764706 , 0.45882353, 0.50980395],\n",
       "        [0.43137255, 0.5176471 , 0.5647059 ],\n",
       "        [0.41960785, 0.5019608 , 0.5529412 ]],\n",
       "\n",
       "       ...,\n",
       "\n",
       "       [[0.88235295, 0.8901961 , 0.89411765],\n",
       "        [0.8       , 0.80784315, 0.80784315],\n",
       "        [0.7764706 , 0.78431374, 0.7647059 ],\n",
       "        ...,\n",
       "        [0.05490196, 0.05490196, 0.05490196],\n",
       "        [0.07843138, 0.07058824, 0.07450981],\n",
       "        [0.05490196, 0.04705882, 0.05098039]],\n",
       "\n",
       "       [[0.78039217, 0.79607844, 0.79607844],\n",
       "        [0.75686276, 0.76862746, 0.77254903],\n",
       "        [0.827451  , 0.8352941 , 0.81960785],\n",
       "        ...,\n",
       "        [0.09803922, 0.09803922, 0.09803922],\n",
       "        [0.10980392, 0.10588235, 0.10588235],\n",
       "        [0.05490196, 0.05098039, 0.05490196]],\n",
       "\n",
       "       [[0.69411767, 0.7137255 , 0.7058824 ],\n",
       "        [0.72156864, 0.7372549 , 0.7411765 ],\n",
       "        [0.8901961 , 0.8980392 , 0.88235295],\n",
       "        ...,\n",
       "        [0.18039216, 0.18039216, 0.18039216],\n",
       "        [0.12156863, 0.11764706, 0.11764706],\n",
       "        [0.04705882, 0.04313726, 0.04705882]]], dtype=float32)"
      ]
     },
     "execution_count": 53,
     "metadata": {},
     "output_type": "execute_result"
    }
   ],
   "source": [
    "# independent variable\n",
    "np.array(load_image_array, dtype=np.float32)"
   ]
  },
  {
   "cell_type": "code",
   "execution_count": 54,
   "metadata": {},
   "outputs": [
    {
     "data": {
      "text/plain": [
       "array([0.2875   , 0.695    , 0.4344569, 0.5730337], dtype=float32)"
      ]
     },
     "execution_count": 54,
     "metadata": {},
     "output_type": "execute_result"
    }
   ],
   "source": [
    "# dependent variable\n",
    "np.array(normalized_labels, dtype=np.float32)"
   ]
  }
 ],
 "metadata": {
  "kernelspec": {
   "display_name": "venv",
   "language": "python",
   "name": "python3"
  },
  "language_info": {
   "codemirror_mode": {
    "name": "ipython",
    "version": 3
   },
   "file_extension": ".py",
   "mimetype": "text/x-python",
   "name": "python",
   "nbconvert_exporter": "python",
   "pygments_lexer": "ipython3",
   "version": "3.11.3"
  }
 },
 "nbformat": 4,
 "nbformat_minor": 2
}
