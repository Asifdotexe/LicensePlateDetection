{
 "cells": [
  {
   "cell_type": "markdown",
   "metadata": {},
   "source": [
    "# Data Proprocessing"
   ]
  },
  {
   "cell_type": "code",
   "execution_count": 12,
   "metadata": {},
   "outputs": [],
   "source": [
    "import pandas as pd\n",
    "import cv2 as cv\n",
    "from src.xml_parser import extract_image_filenames"
   ]
  },
  {
   "cell_type": "code",
   "execution_count": 4,
   "metadata": {},
   "outputs": [
    {
     "data": {
      "text/html": [
       "<div>\n",
       "<style scoped>\n",
       "    .dataframe tbody tr th:only-of-type {\n",
       "        vertical-align: middle;\n",
       "    }\n",
       "\n",
       "    .dataframe tbody tr th {\n",
       "        vertical-align: top;\n",
       "    }\n",
       "\n",
       "    .dataframe thead th {\n",
       "        text-align: right;\n",
       "    }\n",
       "</style>\n",
       "<table border=\"1\" class=\"dataframe\">\n",
       "  <thead>\n",
       "    <tr style=\"text-align: right;\">\n",
       "      <th></th>\n",
       "      <th>filepath</th>\n",
       "      <th>xmin</th>\n",
       "      <th>xmax</th>\n",
       "      <th>ymin</th>\n",
       "      <th>ymax</th>\n",
       "    </tr>\n",
       "  </thead>\n",
       "  <tbody>\n",
       "    <tr>\n",
       "      <th>0</th>\n",
       "      <td>..\\input\\number-plates\\annotations\\Cars0.xml</td>\n",
       "      <td>226</td>\n",
       "      <td>419</td>\n",
       "      <td>125</td>\n",
       "      <td>173</td>\n",
       "    </tr>\n",
       "    <tr>\n",
       "      <th>1</th>\n",
       "      <td>..\\input\\number-plates\\annotations\\Cars1.xml</td>\n",
       "      <td>134</td>\n",
       "      <td>262</td>\n",
       "      <td>128</td>\n",
       "      <td>160</td>\n",
       "    </tr>\n",
       "    <tr>\n",
       "      <th>2</th>\n",
       "      <td>..\\input\\number-plates\\annotations\\Cars10.xml</td>\n",
       "      <td>140</td>\n",
       "      <td>303</td>\n",
       "      <td>5</td>\n",
       "      <td>148</td>\n",
       "    </tr>\n",
       "    <tr>\n",
       "      <th>3</th>\n",
       "      <td>..\\input\\number-plates\\annotations\\Cars100.xml</td>\n",
       "      <td>175</td>\n",
       "      <td>214</td>\n",
       "      <td>114</td>\n",
       "      <td>131</td>\n",
       "    </tr>\n",
       "    <tr>\n",
       "      <th>4</th>\n",
       "      <td>..\\input\\number-plates\\annotations\\Cars101.xml</td>\n",
       "      <td>167</td>\n",
       "      <td>240</td>\n",
       "      <td>202</td>\n",
       "      <td>220</td>\n",
       "    </tr>\n",
       "  </tbody>\n",
       "</table>\n",
       "</div>"
      ],
      "text/plain": [
       "                                         filepath  xmin  xmax  ymin  ymax\n",
       "0    ..\\input\\number-plates\\annotations\\Cars0.xml   226   419   125   173\n",
       "1    ..\\input\\number-plates\\annotations\\Cars1.xml   134   262   128   160\n",
       "2   ..\\input\\number-plates\\annotations\\Cars10.xml   140   303     5   148\n",
       "3  ..\\input\\number-plates\\annotations\\Cars100.xml   175   214   114   131\n",
       "4  ..\\input\\number-plates\\annotations\\Cars101.xml   167   240   202   220"
      ]
     },
     "execution_count": 4,
     "metadata": {},
     "output_type": "execute_result"
    }
   ],
   "source": [
    "df = pd.read_csv(r\"..\\output\\labels.csv\")\n",
    "df.head()"
   ]
  },
  {
   "cell_type": "code",
   "execution_count": 6,
   "metadata": {},
   "outputs": [
    {
     "data": {
      "text/plain": [
       "array([[226, 419, 125, 173],\n",
       "       [134, 262, 128, 160],\n",
       "       [140, 303,   5, 148],\n",
       "       ...,\n",
       "       [ 98, 297, 102, 191],\n",
       "       [ 85, 247, 196, 259],\n",
       "       [ 70, 262, 198, 271]], dtype=int64)"
      ]
     },
     "execution_count": 6,
     "metadata": {},
     "output_type": "execute_result"
    }
   ],
   "source": [
    "# getting all the co-ordinatess from all the xml files\n",
    "df.iloc[:,1:5].values"
   ]
  },
  {
   "cell_type": "code",
   "execution_count": 9,
   "metadata": {},
   "outputs": [],
   "source": [
    "# exteacted all the image paths from the dataframe\n",
    "image_paths = extract_image_filenames(df)"
   ]
  },
  {
   "cell_type": "code",
   "execution_count": 15,
   "metadata": {},
   "outputs": [
    {
     "data": {
      "text/plain": [
       "'../input/number-plates/images\\\\Cars106.png'"
      ]
     },
     "execution_count": 15,
     "metadata": {},
     "output_type": "execute_result"
    }
   ],
   "source": [
    "image_paths[9]"
   ]
  },
  {
   "cell_type": "code",
   "execution_count": 16,
   "metadata": {},
   "outputs": [
    {
     "data": {
      "text/plain": [
       "array([[[131, 146, 154],\n",
       "        [131, 146, 154],\n",
       "        [134, 149, 157],\n",
       "        ...,\n",
       "        [220, 211, 203],\n",
       "        [220, 211, 203],\n",
       "        [220, 211, 203]],\n",
       "\n",
       "       [[126, 143, 150],\n",
       "        [125, 142, 150],\n",
       "        [129, 146, 153],\n",
       "        ...,\n",
       "        [219, 211, 202],\n",
       "        [219, 211, 202],\n",
       "        [219, 210, 202]],\n",
       "\n",
       "       [[127, 145, 152],\n",
       "        [126, 144, 151],\n",
       "        [129, 147, 154],\n",
       "        ...,\n",
       "        [217, 209, 201],\n",
       "        [217, 209, 200],\n",
       "        [217, 209, 200]],\n",
       "\n",
       "       ...,\n",
       "\n",
       "       [[122, 147, 162],\n",
       "        [120, 145, 159],\n",
       "        [121, 146, 160],\n",
       "        ...,\n",
       "        [255, 255, 255],\n",
       "        [255, 255, 255],\n",
       "        [255, 255, 255]],\n",
       "\n",
       "       [[125, 150, 164],\n",
       "        [121, 146, 160],\n",
       "        [118, 143, 158],\n",
       "        ...,\n",
       "        [255, 255, 255],\n",
       "        [255, 255, 255],\n",
       "        [255, 255, 255]],\n",
       "\n",
       "       [[132, 157, 171],\n",
       "        [127, 152, 166],\n",
       "        [125, 150, 164],\n",
       "        ...,\n",
       "        [255, 255, 255],\n",
       "        [255, 255, 255],\n",
       "        [255, 255, 255]]], dtype=uint8)"
      ]
     },
     "execution_count": 16,
     "metadata": {},
     "output_type": "execute_result"
    }
   ],
   "source": [
    "# reading the image using OpenCV\n",
    "cv.imread(image_paths[9])"
   ]
  },
  {
   "cell_type": "code",
   "execution_count": null,
   "metadata": {},
   "outputs": [],
   "source": []
  }
 ],
 "metadata": {
  "kernelspec": {
   "display_name": "venv",
   "language": "python",
   "name": "python3"
  },
  "language_info": {
   "codemirror_mode": {
    "name": "ipython",
    "version": 3
   },
   "file_extension": ".py",
   "mimetype": "text/x-python",
   "name": "python",
   "nbconvert_exporter": "python",
   "pygments_lexer": "ipython3",
   "version": "3.11.3"
  }
 },
 "nbformat": 4,
 "nbformat_minor": 2
}
